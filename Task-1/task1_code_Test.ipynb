{
  "nbformat": 4,
  "nbformat_minor": 0,
  "metadata": {
    "colab": {
      "name": "task1_code_Test.ipynb",
      "provenance": [],
      "collapsed_sections": []
    },
    "kernelspec": {
      "name": "python3",
      "display_name": "Python 3"
    },
    "accelerator": "GPU"
  },
  "cells": [
    {
      "cell_type": "code",
      "metadata": {
        "id": "oTLp5zvj40wc"
      },
      "source": [
        "from google.colab import drive\n",
        "drive.mount('/content/gdrive')\n",
        "%cd gdrive/MyDrive/EE698V/"
      ],
      "execution_count": null,
      "outputs": []
    },
    {
      "cell_type": "code",
      "metadata": {
        "id": "wOyWfggiIzdO"
      },
      "source": [
        "NUM = 10 # Total number of Models\n",
        "sampling_rate = 44100\n",
        "row_len = 513 # Number of columns: 1 + n_fft/2\n",
        "col_len = 401 # Number of rows: 1 + (sampling_rate*audio_duration)/(0.01*sampling_rate); 0.01*sampling_rate = hop \n",
        "# audio_length = sampling_rate*audio_duration\n",
        "# audio_duration = 4 seconds\n",
        "\n",
        "outname = \"Task1.csv\" # header is off, columns are \"File\" and \"Class\""
      ],
      "execution_count": null,
      "outputs": []
    },
    {
      "cell_type": "code",
      "metadata": {
        "id": "Gamw-koa4-Wt"
      },
      "source": [
        "import numpy as np\n",
        "import pandas as pd\n",
        "\n",
        "from tensorflow import config, distribute\n",
        "from keras.models import Sequential\n",
        "from keras.layers import Dense, Dropout, Flatten, Conv2D, MaxPool2D, BatchNormalization\n",
        "from keras.callbacks import LearningRateScheduler, ModelCheckpoint, EarlyStopping"
      ],
      "execution_count": null,
      "outputs": []
    },
    {
      "cell_type": "code",
      "metadata": {
        "id": "TOSx2v7I6m_R"
      },
      "source": [
        "gpus = config.list_physical_devices('GPU');\n",
        "print(gpus)\n",
        "\n",
        "if len(gpus) == 1:\n",
        "    strategy = distribute.OneDeviceStrategy(device=\"/gpu:0\")\n",
        "else:\n",
        "    strategy = distribute.MirroredStrategy()\n",
        "\n",
        "config.optimizer.set_experimental_options({\"auto_mixed_precision\": True})"
      ],
      "execution_count": null,
      "outputs": []
    },
    {
      "cell_type": "code",
      "metadata": {
        "id": "t4q2wT1K6A3O"
      },
      "source": [
        "def dim_correction(npfile):\n",
        "    X = np.load(npfile)\n",
        "\n",
        "    if X.shape[0] > row_len:\n",
        "        max_offset = X.shape[0] - row_len\n",
        "        offset = np.random.randint(max_offset)\n",
        "        X = X[offset : (row_len + offset), :]\n",
        "    else:\n",
        "        if X.shape[0] < row_len:\n",
        "            max_offset = row_len - X.shape[0]\n",
        "            offset = np.random.randint(max_offset)\n",
        "        else:\n",
        "            offset = 0\n",
        "        X = np.pad(X, ((offset, row_len - X.shape[0] - offset), (0, 0)), \"constant\")\n",
        "\n",
        "    if X.shape[1] > col_len:\n",
        "        max_offset = X.shape[1] - col_len\n",
        "        offset = np.random.randint(max_offset)\n",
        "        X = X[:, offset : (col_len + offset)]\n",
        "    else:\n",
        "        if X.shape[1] < col_len:\n",
        "            max_offset = col_len - X.shape[1]\n",
        "            offset = np.random.randint(max_offset)\n",
        "        else:\n",
        "            offset = 0\n",
        "        X = np.pad(X, ((0, 0), (offset, col_len - X.shape[1] - offset)), \"constant\")\n",
        "\n",
        "    return X\n",
        "\n",
        "def prepare_data(df, data_dir):\n",
        "    print(\"Number of training samples processed: \")\n",
        "    X = np.empty(shape = (df.shape[0], row_len, col_len, 1))\n",
        "    for i, fname in enumerate(df[\"File\"]):\n",
        "        fpath = data_dir + \"/\" + fname + \".npy\"\n",
        "        STFT = dim_correction(fpath)\n",
        "        STFT = np.expand_dims(STFT, axis = -1)\n",
        "        X[i, ] = STFT\n",
        "\n",
        "        if(i != 0 and i%200 == 0):\n",
        "            print(i, end = \".. \")\n",
        "    print(df[\"File\"].shape[0], end = \".. \")\n",
        "    print(\"Done!\")\n",
        "    \n",
        "    return X\n",
        "\n",
        "def build_model():\n",
        "\n",
        "    model = Sequential()\n",
        "    model.add(Conv2D(32, kernel_size = 7, strides = 2, activation = 'relu', input_shape = (row_len, col_len, 1)))\n",
        "    model.add(BatchNormalization())\n",
        "    model.add(MaxPool2D(pool_size = 4))\n",
        "    model.add(Conv2D(64, kernel_size = 5, strides = 2, activation = 'relu'))\n",
        "    model.add(BatchNormalization())\n",
        "    model.add(MaxPool2D(pool_size = 4))\n",
        "    model.add(Conv2D(128, kernel_size = 3, strides = 2, activation = 'relu'))\n",
        "    model.add(BatchNormalization())\n",
        "    \n",
        "    model.add(Flatten())\n",
        "    model.add(Dropout(0.4))\n",
        "    model.add(Dense(32, activation = 'relu'))\n",
        "    model.add(Dropout(0.4))\n",
        "    model.add(Dense(n_classes, activation = 'softmax'))\n",
        "\n",
        "    model.compile(optimizer = \"adam\", loss = \"categorical_crossentropy\", metrics = [\"accuracy\"])\n",
        "    \n",
        "    return model"
      ],
      "execution_count": null,
      "outputs": []
    },
    {
      "cell_type": "code",
      "metadata": {
        "colab": {
          "base_uri": "https://localhost:8080/"
        },
        "id": "3B_WJSR55Z36",
        "outputId": "be2f19cb-bbdc-42e4-dc13-c02e11d55ed2"
      },
      "source": [
        "train = pd.read_csv(\"labels_train.csv\")\n",
        "test = pd.read_csv(\"predict_test.csv\", header = None)\n",
        "test.columns =[\"File\", \"Class\"]\n",
        "sub = test\n",
        "\n",
        "LABELS = list(train['class'].unique())\n",
        "label_idx = {label: i for i, label in enumerate(LABELS)}\n",
        "train[\"label_idx\"] = train[\"class\"].apply(lambda x : label_idx[x])\n",
        "\n",
        "n_classes = len(train[\"class\"].unique())\n",
        "\n",
        "X_test = prepare_data(test, \"test_data\")\n",
        "\n",
        "normalize = np.load(\"models/normalize.npy\")\n",
        "MEAN = normalize[0]\n",
        "STD = normalize[1]\n",
        "X_test = (X_test - MEAN)/STD"
      ],
      "execution_count": null,
      "outputs": [
        {
          "output_type": "stream",
          "text": [
            "Number of training samples processed: \n",
            "10.. Done!\n"
          ],
          "name": "stdout"
        }
      ]
    },
    {
      "cell_type": "code",
      "metadata": {
        "id": "iRmZqT_d6r6H"
      },
      "source": [
        "result = np.zeros((test.shape[0], n_classes))\n",
        "\n",
        "with strategy.scope():\n",
        "    model = build_model()\n",
        "\n",
        "for num in range(NUM):\n",
        "    model.load_weights(\"models/best_%d.h5\"%(num + 1))\n",
        "    predictions = model.predict(X_test, batch_size = 32, verbose = 0)\n",
        "    \n",
        "    for i in range(result.shape[0]):\n",
        "        result[i, predictions.argmax(axis = 1)[i]] = result[i, predictions.argmax(axis = 1)[i]] + 1\n",
        "\n",
        "result = np.array(LABELS)[np.argmax(result, axis = 1)]\n",
        "sub[\"Class\"] = result.astype('str')\n",
        "sub.to_csv(outname, header = None, index = False)"
      ],
      "execution_count": null,
      "outputs": []
    },
    {
      "cell_type": "code",
      "metadata": {
        "colab": {
          "base_uri": "https://localhost:8080/"
        },
        "id": "GUBmp3jAQc9f",
        "outputId": "56184902-d255-4a2a-e81e-69b5be245ec3"
      },
      "source": [
        "print(sub)"
      ],
      "execution_count": null,
      "outputs": [
        {
          "output_type": "stream",
          "text": [
            "     File             Class\n",
            "0  a00001          dog_bark\n",
            "1  a00002          drilling\n",
            "2  a00003          drilling\n",
            "3  a00004      street_music\n",
            "4  a00005        jackhammer\n",
            "5  a00006          dog_bark\n",
            "6  a00007  children_playing\n",
            "7  a00008          drilling\n",
            "8  a00009     engine_idling\n",
            "9  a00010      street_music\n"
          ],
          "name": "stdout"
        }
      ]
    }
  ]
}