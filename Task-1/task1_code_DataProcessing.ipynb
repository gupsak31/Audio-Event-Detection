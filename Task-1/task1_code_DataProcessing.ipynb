{
  "nbformat": 4,
  "nbformat_minor": 0,
  "metadata": {
    "kernelspec": {
      "display_name": "Python 3",
      "language": "python",
      "name": "python3"
    },
    "language_info": {
      "codemirror_mode": {
        "name": "ipython",
        "version": 3
      },
      "file_extension": ".py",
      "mimetype": "text/x-python",
      "name": "python",
      "nbconvert_exporter": "python",
      "pygments_lexer": "ipython3",
      "version": "3.6.8"
    },
    "colab": {
      "name": "EE698V_Task1:DataProcessing.ipynb",
      "provenance": [],
      "collapsed_sections": []
    }
  },
  "cells": [
    {
      "cell_type": "code",
      "metadata": {
        "id": "5gO2lh2IXJbc",
        "colab": {
          "base_uri": "https://localhost:8080/"
        },
        "outputId": "b61766b2-75ab-45d0-db89-a3686696d1cf"
      },
      "source": [
        "from google.colab import drive\n",
        "drive.mount('/content/gdrive')\n",
        "%cd gdrive/MyDrive/EE698V/"
      ],
      "execution_count": 1,
      "outputs": [
        {
          "output_type": "stream",
          "text": [
            "Mounted at /content/gdrive\n",
            "/content/gdrive/MyDrive/EE698V\n"
          ],
          "name": "stdout"
        }
      ]
    },
    {
      "cell_type": "code",
      "metadata": {
        "id": "42tR_nlIJ1gv"
      },
      "source": [
        "sampling_rate = 44100\n",
        "row_len = 513 # Number of columns: 1 + n_fft/2\n",
        "col_len = 401 # Number of rows: 1 + (sampling_rate*audio_duration)/(0.01*sampling_rate); 0.01*sampling_rate = hop \n",
        "# audio_length = sampling_rate*audio_duration\n",
        "# audio_duration = 4 seconds"
      ],
      "execution_count": 2,
      "outputs": []
    },
    {
      "cell_type": "code",
      "metadata": {
        "id": "ljQSzh2fbtF_"
      },
      "source": [
        "import numpy as np\n",
        "import pandas as pd\n",
        "\n",
        "import librosa\n",
        "from keras.utils.np_utils import to_categorical"
      ],
      "execution_count": 3,
      "outputs": []
    },
    {
      "cell_type": "code",
      "metadata": {
        "id": "j-F5HmsM8kHO"
      },
      "source": [
        "def wav2feat(wavfile, Fs = sampling_rate):\n",
        "    x, _ = librosa.core.load(wavfile, sr = Fs, mono = True)\n",
        "    hop = int(0.01*Fs) # 10ms\n",
        "    win = int(0.02*Fs) # 20ms\n",
        "    X = librosa.stft(x, n_fft = 1024, hop_length = hop, win_length = win, window = 'hann', center = True, pad_mode = \"reflect\")\n",
        "    X = np.abs(X)\n",
        "\n",
        "    if X.shape[0] > row_len:\n",
        "        max_offset = X.shape[0] - row_len\n",
        "        offset = np.random.randint(max_offset)\n",
        "        X = X[offset : (row_len + offset), :]\n",
        "    else:\n",
        "        if X.shape[0] < row_len:\n",
        "            max_offset = row_len - X.shape[0]\n",
        "            offset = np.random.randint(max_offset)\n",
        "        else:\n",
        "            offset = 0\n",
        "        X = np.pad(X, ((offset, row_len - X.shape[0] - offset), (0, 0)), \"constant\")\n",
        "\n",
        "    if X.shape[1] > col_len:\n",
        "        max_offset = X.shape[1] - col_len\n",
        "        offset = np.random.randint(max_offset)\n",
        "        X = X[:, offset : (col_len + offset)]\n",
        "    else:\n",
        "        if X.shape[1] < col_len:\n",
        "            max_offset = col_len - X.shape[1]\n",
        "            offset = np.random.randint(max_offset)\n",
        "        else:\n",
        "            offset = 0\n",
        "        X = np.pad(X, ((0, 0), (offset, col_len - X.shape[1] - offset)), \"constant\")\n",
        "\n",
        "    return X\n",
        "\n",
        "def prepare_data(df, data_dir):\n",
        "    print(\"Number of training samples processed: \")\n",
        "    X = np.empty(shape = (df.shape[0], row_len, col_len, 1))\n",
        "    for i, fname in enumerate(df[\"slice_file_name\"]):\n",
        "        fpath = data_dir + \"/\" + fname\n",
        "        STFT = wav2feat(fpath)\n",
        "        STFT = np.expand_dims(STFT, axis = -1)\n",
        "        X[i, ] = STFT\n",
        "\n",
        "        if(i != 0 and i%200 == 0):\n",
        "            print(i, end = \".. \")\n",
        "    print(df.shape[0], end = \".. \")\n",
        "    print(\"Done!\")\n",
        "        \n",
        "    Y = to_categorical(train[\"label_idx\"], num_classes = n_classes)\n",
        "    np.save(\"train_data/input_data\", X)\n",
        "    np.save(\"train_data/input_target\", Y)\n",
        "    return X, Y"
      ],
      "execution_count": 4,
      "outputs": []
    },
    {
      "cell_type": "code",
      "metadata": {
        "id": "TPR2ML2z3I2X"
      },
      "source": [
        "train = pd.read_csv(\"labels_train.csv\")\n",
        "\n",
        "LABELS = list(train['class'].unique())\n",
        "label_idx = {label: i for i, label in enumerate(LABELS)}\n",
        "train[\"label_idx\"] = train[\"class\"].apply(lambda x : label_idx[x])\n",
        "\n",
        "n_classes = len(train[\"class\"].unique())"
      ],
      "execution_count": 5,
      "outputs": []
    },
    {
      "cell_type": "code",
      "metadata": {
        "id": "4JY1XX3eMe06",
        "colab": {
          "base_uri": "https://localhost:8080/"
        },
        "outputId": "f21cf009-464b-43ad-dced-d2e6654b0e2f"
      },
      "source": [
        "X_train, Y_train = prepare_data(train, \"train_data\")"
      ],
      "execution_count": 6,
      "outputs": [
        {
          "output_type": "stream",
          "text": [
            "Number of training samples processed: \n",
            "200.. 400.. 600.. 800.. 1000.. 1200.. 1400.. 1600.. 1761.. Done!\n"
          ],
          "name": "stdout"
        }
      ]
    }
  ]
}